{
 "cells": [
  {
   "attachments": {},
   "cell_type": "markdown",
   "metadata": {},
   "source": [
    "# Geolife Analysis"
   ]
  },
  {
   "cell_type": "code",
   "execution_count": 1,
   "metadata": {},
   "outputs": [],
   "source": [
    "import pandas as pd\n",
    "import numpy as np\n",
    "import pyproj\n",
    "import pptk\n",
    "import read_geolife\n"
   ]
  },
  {
   "cell_type": "code",
   "execution_count": 2,
   "metadata": {},
   "outputs": [],
   "source": [
    "# SLOW!\n",
    "# \n",
    "# df = read_geolife.read_all_users('..\\Geolife\\Data')\n",
    "# df.to_pickle('geolifePython7.pkl')"
   ]
  },
  {
   "cell_type": "code",
   "execution_count": 3,
   "metadata": {},
   "outputs": [
    {
     "data": {
      "text/html": [
       "<div>\n",
       "<style scoped>\n",
       "    .dataframe tbody tr th:only-of-type {\n",
       "        vertical-align: middle;\n",
       "    }\n",
       "\n",
       "    .dataframe tbody tr th {\n",
       "        vertical-align: top;\n",
       "    }\n",
       "\n",
       "    .dataframe thead th {\n",
       "        text-align: right;\n",
       "    }\n",
       "</style>\n",
       "<table border=\"1\" class=\"dataframe\">\n",
       "  <thead>\n",
       "    <tr style=\"text-align: right;\">\n",
       "      <th></th>\n",
       "      <th>time</th>\n",
       "      <th>lat</th>\n",
       "      <th>lon</th>\n",
       "      <th>alt</th>\n",
       "      <th>label</th>\n",
       "      <th>user</th>\n",
       "    </tr>\n",
       "  </thead>\n",
       "  <tbody>\n",
       "    <tr>\n",
       "      <th>0</th>\n",
       "      <td>2008-10-23 02:53:04</td>\n",
       "      <td>39.984702</td>\n",
       "      <td>116.318417</td>\n",
       "      <td>492.000000</td>\n",
       "      <td>0</td>\n",
       "      <td>0</td>\n",
       "    </tr>\n",
       "    <tr>\n",
       "      <th>1</th>\n",
       "      <td>2008-10-23 02:53:10</td>\n",
       "      <td>39.984683</td>\n",
       "      <td>116.318450</td>\n",
       "      <td>492.000000</td>\n",
       "      <td>0</td>\n",
       "      <td>0</td>\n",
       "    </tr>\n",
       "    <tr>\n",
       "      <th>2</th>\n",
       "      <td>2008-10-23 02:53:15</td>\n",
       "      <td>39.984686</td>\n",
       "      <td>116.318417</td>\n",
       "      <td>492.000000</td>\n",
       "      <td>0</td>\n",
       "      <td>0</td>\n",
       "    </tr>\n",
       "    <tr>\n",
       "      <th>3</th>\n",
       "      <td>2008-10-23 02:53:20</td>\n",
       "      <td>39.984688</td>\n",
       "      <td>116.318385</td>\n",
       "      <td>492.000000</td>\n",
       "      <td>0</td>\n",
       "      <td>0</td>\n",
       "    </tr>\n",
       "    <tr>\n",
       "      <th>4</th>\n",
       "      <td>2008-10-23 02:53:25</td>\n",
       "      <td>39.984655</td>\n",
       "      <td>116.318263</td>\n",
       "      <td>492.000000</td>\n",
       "      <td>0</td>\n",
       "      <td>0</td>\n",
       "    </tr>\n",
       "    <tr>\n",
       "      <th>...</th>\n",
       "      <td>...</td>\n",
       "      <td>...</td>\n",
       "      <td>...</td>\n",
       "      <td>...</td>\n",
       "      <td>...</td>\n",
       "      <td>...</td>\n",
       "    </tr>\n",
       "    <tr>\n",
       "      <th>17</th>\n",
       "      <td>2008-03-14 03:39:56</td>\n",
       "      <td>40.914867</td>\n",
       "      <td>111.710500</td>\n",
       "      <td>3802.493438</td>\n",
       "      <td>0</td>\n",
       "      <td>181</td>\n",
       "    </tr>\n",
       "    <tr>\n",
       "      <th>18</th>\n",
       "      <td>2008-03-14 03:41:17</td>\n",
       "      <td>40.914267</td>\n",
       "      <td>111.710333</td>\n",
       "      <td>3795.931759</td>\n",
       "      <td>0</td>\n",
       "      <td>181</td>\n",
       "    </tr>\n",
       "    <tr>\n",
       "      <th>19</th>\n",
       "      <td>2008-03-14 03:43:02</td>\n",
       "      <td>40.912467</td>\n",
       "      <td>111.710667</td>\n",
       "      <td>3795.931759</td>\n",
       "      <td>0</td>\n",
       "      <td>181</td>\n",
       "    </tr>\n",
       "    <tr>\n",
       "      <th>20</th>\n",
       "      <td>2008-03-14 03:43:28</td>\n",
       "      <td>40.911517</td>\n",
       "      <td>111.711317</td>\n",
       "      <td>3779.527559</td>\n",
       "      <td>0</td>\n",
       "      <td>181</td>\n",
       "    </tr>\n",
       "    <tr>\n",
       "      <th>21</th>\n",
       "      <td>2008-03-14 03:43:40</td>\n",
       "      <td>40.910933</td>\n",
       "      <td>111.711617</td>\n",
       "      <td>3802.493438</td>\n",
       "      <td>0</td>\n",
       "      <td>181</td>\n",
       "    </tr>\n",
       "  </tbody>\n",
       "</table>\n",
       "<p>24876978 rows × 6 columns</p>\n",
       "</div>"
      ],
      "text/plain": [
       "                  time        lat         lon          alt  label  user\n",
       "0  2008-10-23 02:53:04  39.984702  116.318417   492.000000      0     0\n",
       "1  2008-10-23 02:53:10  39.984683  116.318450   492.000000      0     0\n",
       "2  2008-10-23 02:53:15  39.984686  116.318417   492.000000      0     0\n",
       "3  2008-10-23 02:53:20  39.984688  116.318385   492.000000      0     0\n",
       "4  2008-10-23 02:53:25  39.984655  116.318263   492.000000      0     0\n",
       "..                 ...        ...         ...          ...    ...   ...\n",
       "17 2008-03-14 03:39:56  40.914867  111.710500  3802.493438      0   181\n",
       "18 2008-03-14 03:41:17  40.914267  111.710333  3795.931759      0   181\n",
       "19 2008-03-14 03:43:02  40.912467  111.710667  3795.931759      0   181\n",
       "20 2008-03-14 03:43:28  40.911517  111.711317  3779.527559      0   181\n",
       "21 2008-03-14 03:43:40  40.910933  111.711617  3802.493438      0   181\n",
       "\n",
       "[24876978 rows x 6 columns]"
      ]
     },
     "execution_count": 3,
     "metadata": {},
     "output_type": "execute_result"
    }
   ],
   "source": [
    "df = pd.read_pickle('..\\geolifePython7.pkl')\n",
    "df"
   ]
  },
  {
   "cell_type": "code",
   "execution_count": 4,
   "metadata": {},
   "outputs": [],
   "source": [
    "P = np.c_[df['lon'], df['lat'], np.zeros(len(df))]"
   ]
  },
  {
   "cell_type": "code",
   "execution_count": 5,
   "metadata": {},
   "outputs": [],
   "source": [
    "v = pptk.viewer(P)\n",
    "v.attributes(df['alt'])\n",
    "v.color_map('jet', scale=[0, 20000])\n"
   ]
  },
  {
   "cell_type": "code",
   "execution_count": 6,
   "metadata": {},
   "outputs": [
    {
     "name": "stdout",
     "output_type": "stream",
     "text": [
      "-32647.6\n",
      "107503.3\n"
     ]
    }
   ],
   "source": [
    "print(np.min(df['alt']))\n",
    "print(np.max(df['alt']))"
   ]
  },
  {
   "cell_type": "code",
   "execution_count": null,
   "metadata": {},
   "outputs": [],
   "source": []
  },
  {
   "cell_type": "code",
   "execution_count": 7,
   "metadata": {},
   "outputs": [],
   "source": [
    "mask_50 = (df['lon'] > 114.0) & (df['lon'] < 120.0) & (df['lat'] > 32.0) & (df['lat'] < 48.0)\n",
    "df_50 = df[mask_50]"
   ]
  },
  {
   "cell_type": "code",
   "execution_count": 8,
   "metadata": {},
   "outputs": [],
   "source": [
    "proj = pyproj.Proj(proj='utm', zone=50, ellps='WGS84')\n",
    "x, y = proj(df_50['lon'].tolist(), df_50['lat'].tolist())\n",
    "p = np.c_[x, y, 0.3048 * df_50['alt']]  # alt originally in feet"
   ]
  },
  {
   "cell_type": "code",
   "execution_count": 9,
   "metadata": {},
   "outputs": [],
   "source": [
    "#v = pptk.viewer(p) unlabeled"
   ]
  },
  {
   "cell_type": "code",
   "execution_count": 10,
   "metadata": {},
   "outputs": [],
   "source": [
    "mask_labelled = df_50['label'] != 0\n",
    "v = pptk.viewer(p[mask_labelled])"
   ]
  },
  {
   "cell_type": "code",
   "execution_count": 13,
   "metadata": {},
   "outputs": [
    {
     "name": "stdout",
     "output_type": "stream",
     "text": [
      "blue represents walk\n",
      "green represents bike\n",
      "red represents bus\n",
      "cyan represents car\n",
      "magenta represents subway\n",
      "yellow represents train\n",
      "black represents airplane\n",
      "white represents boat\n",
      "tab:blue represents run\n",
      "tab:orange represents motorcycle\n",
      "tab:green represents taxi\n"
     ]
    }
   ],
   "source": [
    "colors = [\n",
    "    \"blue\",\n",
    "    \"green\",\n",
    "    \"red\",\n",
    "    \"cyan\",\n",
    "    \"magenta\",\n",
    "    \"yellow\",\n",
    "    \"black\",\n",
    "    \"white\",\n",
    "    \"tab:blue\",\n",
    "    \"tab:orange\",\n",
    "    \"tab:green\",\n",
    "    \"tab:red\",\n",
    "    \"tab:purple\",\n",
    "    \"tab:brown\",\n",
    "    \"tab:pink\"\n",
    "]\n",
    "\n",
    "rgb_values = [\n",
    "    [0, 0, 1],    # blue\n",
    "    [0, 0.5, 0],  # green\n",
    "    [1, 0, 0],    # red\n",
    "    [0, 0.75, 0.75],  # cyan\n",
    "    [1, 0, 1],    # magenta\n",
    "    [0.75, 0.75, 0],  # yellow\n",
    "    [0, 0, 0],    # black\n",
    "    [1, 1, 1],    # white\n",
    "    [0.12156862745098039, 0.4666666666666667, 0.7058823529411765],   # tab:blue\n",
    "    [1.0, 0.4980392156862745, 0.054901960784313725],  # tab:orange\n",
    "    [0.17254901960784313, 0.6274509803921569, 0.17254901960784313], # tab:green\n",
    "    [0.8392156862745098, 0.15294117647058825, 0.1568627450980392],  # tab:red\n",
    "    [0.5803921568627451, 0.403921568627451, 0.7411764705882353],    # tab:purple\n",
    "    [0.5490196078431373, 0.33725490196078434, 0.29411764705882354], # tab:brown\n",
    "    [0.8901960784313725, 0.4666666666666667, 0.7607843137254902]    # tab:pink\n",
    "]\n",
    "def get_rgb(id):\n",
    "    return np.array(rgb_values[id])\n",
    "\n",
    "cs = np.vstack(df_50[mask_labelled]['label'].apply(lambda l: get_rgb(l-1)))\n",
    "v.attributes(cs)\n",
    "\n",
    "# todo make less ugly\n",
    "for i, item in enumerate(zip(colors, rgb_values)):\n",
    "    if i >= df_50[mask_labelled]['label'].max():\n",
    "        break\n",
    "    print(f'{item[0]} represents {read_geolife.get_mode(i+1)}')\n",
    "\n",
    "\n"
   ]
  }
 ],
 "metadata": {
  "kernelspec": {
   "display_name": "Python 3",
   "language": "python",
   "name": "python3"
  },
  "language_info": {
   "codemirror_mode": {
    "name": "ipython",
    "version": 3
   },
   "file_extension": ".py",
   "mimetype": "text/x-python",
   "name": "python",
   "nbconvert_exporter": "python",
   "pygments_lexer": "ipython3",
   "version": "3.7.8"
  },
  "orig_nbformat": 4
 },
 "nbformat": 4,
 "nbformat_minor": 2
}
