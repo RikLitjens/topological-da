{
 "cells": [
  {
   "attachments": {},
   "cell_type": "markdown",
   "metadata": {},
   "source": [
    "# Geolife Analysis\n"
   ]
  },
  {
   "cell_type": "code",
   "execution_count": 41,
   "metadata": {},
   "outputs": [],
   "source": [
    "import pandas as pd\n",
    "import numpy as np\n",
    "import pyproj\n",
    "import pptk\n",
    "import read_geolife\n",
    "from IPython.display import Markdown"
   ]
  },
  {
   "cell_type": "code",
   "execution_count": 26,
   "metadata": {},
   "outputs": [],
   "source": [
    "# SLOW!\n",
    "# \n",
    "# df = read_geolife.read_all_users('..\\Geolife\\Data')\n",
    "# df.to_pickle('geolifePython7.pkl')"
   ]
  },
  {
   "cell_type": "code",
   "execution_count": 27,
   "metadata": {},
   "outputs": [
    {
     "data": {
      "text/html": [
       "<div>\n",
       "<style scoped>\n",
       "    .dataframe tbody tr th:only-of-type {\n",
       "        vertical-align: middle;\n",
       "    }\n",
       "\n",
       "    .dataframe tbody tr th {\n",
       "        vertical-align: top;\n",
       "    }\n",
       "\n",
       "    .dataframe thead th {\n",
       "        text-align: right;\n",
       "    }\n",
       "</style>\n",
       "<table border=\"1\" class=\"dataframe\">\n",
       "  <thead>\n",
       "    <tr style=\"text-align: right;\">\n",
       "      <th></th>\n",
       "      <th>time</th>\n",
       "      <th>lat</th>\n",
       "      <th>lon</th>\n",
       "      <th>alt</th>\n",
       "      <th>label</th>\n",
       "      <th>user</th>\n",
       "    </tr>\n",
       "  </thead>\n",
       "  <tbody>\n",
       "    <tr>\n",
       "      <th>0</th>\n",
       "      <td>2008-10-23 02:53:04</td>\n",
       "      <td>39.984702</td>\n",
       "      <td>116.318417</td>\n",
       "      <td>492.000000</td>\n",
       "      <td>0</td>\n",
       "      <td>0</td>\n",
       "    </tr>\n",
       "    <tr>\n",
       "      <th>1</th>\n",
       "      <td>2008-10-23 02:53:10</td>\n",
       "      <td>39.984683</td>\n",
       "      <td>116.318450</td>\n",
       "      <td>492.000000</td>\n",
       "      <td>0</td>\n",
       "      <td>0</td>\n",
       "    </tr>\n",
       "    <tr>\n",
       "      <th>2</th>\n",
       "      <td>2008-10-23 02:53:15</td>\n",
       "      <td>39.984686</td>\n",
       "      <td>116.318417</td>\n",
       "      <td>492.000000</td>\n",
       "      <td>0</td>\n",
       "      <td>0</td>\n",
       "    </tr>\n",
       "    <tr>\n",
       "      <th>3</th>\n",
       "      <td>2008-10-23 02:53:20</td>\n",
       "      <td>39.984688</td>\n",
       "      <td>116.318385</td>\n",
       "      <td>492.000000</td>\n",
       "      <td>0</td>\n",
       "      <td>0</td>\n",
       "    </tr>\n",
       "    <tr>\n",
       "      <th>4</th>\n",
       "      <td>2008-10-23 02:53:25</td>\n",
       "      <td>39.984655</td>\n",
       "      <td>116.318263</td>\n",
       "      <td>492.000000</td>\n",
       "      <td>0</td>\n",
       "      <td>0</td>\n",
       "    </tr>\n",
       "    <tr>\n",
       "      <th>...</th>\n",
       "      <td>...</td>\n",
       "      <td>...</td>\n",
       "      <td>...</td>\n",
       "      <td>...</td>\n",
       "      <td>...</td>\n",
       "      <td>...</td>\n",
       "    </tr>\n",
       "    <tr>\n",
       "      <th>17</th>\n",
       "      <td>2008-03-14 03:39:56</td>\n",
       "      <td>40.914867</td>\n",
       "      <td>111.710500</td>\n",
       "      <td>3802.493438</td>\n",
       "      <td>0</td>\n",
       "      <td>181</td>\n",
       "    </tr>\n",
       "    <tr>\n",
       "      <th>18</th>\n",
       "      <td>2008-03-14 03:41:17</td>\n",
       "      <td>40.914267</td>\n",
       "      <td>111.710333</td>\n",
       "      <td>3795.931759</td>\n",
       "      <td>0</td>\n",
       "      <td>181</td>\n",
       "    </tr>\n",
       "    <tr>\n",
       "      <th>19</th>\n",
       "      <td>2008-03-14 03:43:02</td>\n",
       "      <td>40.912467</td>\n",
       "      <td>111.710667</td>\n",
       "      <td>3795.931759</td>\n",
       "      <td>0</td>\n",
       "      <td>181</td>\n",
       "    </tr>\n",
       "    <tr>\n",
       "      <th>20</th>\n",
       "      <td>2008-03-14 03:43:28</td>\n",
       "      <td>40.911517</td>\n",
       "      <td>111.711317</td>\n",
       "      <td>3779.527559</td>\n",
       "      <td>0</td>\n",
       "      <td>181</td>\n",
       "    </tr>\n",
       "    <tr>\n",
       "      <th>21</th>\n",
       "      <td>2008-03-14 03:43:40</td>\n",
       "      <td>40.910933</td>\n",
       "      <td>111.711617</td>\n",
       "      <td>3802.493438</td>\n",
       "      <td>0</td>\n",
       "      <td>181</td>\n",
       "    </tr>\n",
       "  </tbody>\n",
       "</table>\n",
       "<p>24876978 rows × 6 columns</p>\n",
       "</div>"
      ],
      "text/plain": [
       "                  time        lat         lon          alt  label  user\n",
       "0  2008-10-23 02:53:04  39.984702  116.318417   492.000000      0     0\n",
       "1  2008-10-23 02:53:10  39.984683  116.318450   492.000000      0     0\n",
       "2  2008-10-23 02:53:15  39.984686  116.318417   492.000000      0     0\n",
       "3  2008-10-23 02:53:20  39.984688  116.318385   492.000000      0     0\n",
       "4  2008-10-23 02:53:25  39.984655  116.318263   492.000000      0     0\n",
       "..                 ...        ...         ...          ...    ...   ...\n",
       "17 2008-03-14 03:39:56  40.914867  111.710500  3802.493438      0   181\n",
       "18 2008-03-14 03:41:17  40.914267  111.710333  3795.931759      0   181\n",
       "19 2008-03-14 03:43:02  40.912467  111.710667  3795.931759      0   181\n",
       "20 2008-03-14 03:43:28  40.911517  111.711317  3779.527559      0   181\n",
       "21 2008-03-14 03:43:40  40.910933  111.711617  3802.493438      0   181\n",
       "\n",
       "[24876978 rows x 6 columns]"
      ]
     },
     "execution_count": 27,
     "metadata": {},
     "output_type": "execute_result"
    }
   ],
   "source": [
    "df = pd.read_pickle('..\\geolifePython7.pkl')\n",
    "df"
   ]
  },
  {
   "cell_type": "code",
   "execution_count": 28,
   "metadata": {},
   "outputs": [],
   "source": [
    "P = np.c_[df['lon'], df['lat'], np.zeros(len(df))]"
   ]
  },
  {
   "cell_type": "code",
   "execution_count": 29,
   "metadata": {},
   "outputs": [],
   "source": [
    "v = pptk.viewer(P)\n",
    "v.attributes(df['alt'])\n",
    "v.color_map('jet', scale=[0, 20000])\n"
   ]
  },
  {
   "cell_type": "code",
   "execution_count": 30,
   "metadata": {},
   "outputs": [
    {
     "name": "stdout",
     "output_type": "stream",
     "text": [
      "-32647.6\n",
      "107503.3\n"
     ]
    }
   ],
   "source": [
    "print(np.min(df['alt']))\n",
    "print(np.max(df['alt']))"
   ]
  },
  {
   "cell_type": "code",
   "execution_count": null,
   "metadata": {},
   "outputs": [],
   "source": []
  },
  {
   "cell_type": "code",
   "execution_count": 31,
   "metadata": {},
   "outputs": [],
   "source": [
    "mask_50 = (df['lon'] > 114.0) & (df['lon'] < 120.0) & (df['lat'] > 32.0) & (df['lat'] < 48.0)\n",
    "df_50 = df[mask_50]\n",
    "# df_50 = df_50[df_50['user'] == 82]"
   ]
  },
  {
   "cell_type": "code",
   "execution_count": 32,
   "metadata": {},
   "outputs": [],
   "source": [
    "proj = pyproj.Proj(proj='utm', zone=50, ellps='WGS84')\n",
    "x, y = proj(df_50['lon'].tolist(), df_50['lat'].tolist())\n",
    "p = np.c_[x, y, 0.3048 * df_50['alt']]  # alt originally in feet"
   ]
  },
  {
   "cell_type": "code",
   "execution_count": 33,
   "metadata": {},
   "outputs": [],
   "source": [
    "#v = pptk.viewer(p) unlabeled"
   ]
  },
  {
   "cell_type": "code",
   "execution_count": 34,
   "metadata": {},
   "outputs": [],
   "source": [
    "mask_labelled = df_50['label'] != 0\n",
    "v = pptk.viewer(p[mask_labelled])"
   ]
  },
  {
   "cell_type": "code",
   "execution_count": 44,
   "metadata": {},
   "outputs": [
    {
     "ename": "ConnectionRefusedError",
     "evalue": "[WinError 10061] No connection could be made because the target machine actively refused it",
     "output_type": "error",
     "traceback": [
      "\u001b[1;31m---------------------------------------------------------------------------\u001b[0m",
      "\u001b[1;31mConnectionRefusedError\u001b[0m                    Traceback (most recent call last)",
      "\u001b[1;32m~\\AppData\\Local\\Temp\\ipykernel_2304\\2639010718.py\u001b[0m in \u001b[0;36m<module>\u001b[1;34m\u001b[0m\n\u001b[0;32m     43\u001b[0m \u001b[1;33m\u001b[0m\u001b[0m\n\u001b[0;32m     44\u001b[0m \u001b[0mcs\u001b[0m \u001b[1;33m=\u001b[0m \u001b[0mnp\u001b[0m\u001b[1;33m.\u001b[0m\u001b[0mvstack\u001b[0m\u001b[1;33m(\u001b[0m\u001b[0mdf_50\u001b[0m\u001b[1;33m[\u001b[0m\u001b[0mmask_labelled\u001b[0m\u001b[1;33m]\u001b[0m\u001b[1;33m[\u001b[0m\u001b[1;34m'label'\u001b[0m\u001b[1;33m]\u001b[0m\u001b[1;33m.\u001b[0m\u001b[0mapply\u001b[0m\u001b[1;33m(\u001b[0m\u001b[1;32mlambda\u001b[0m \u001b[0ml\u001b[0m\u001b[1;33m:\u001b[0m \u001b[0mget_rgb\u001b[0m\u001b[1;33m(\u001b[0m\u001b[0ml\u001b[0m\u001b[1;33m-\u001b[0m\u001b[1;36m1\u001b[0m\u001b[1;33m)\u001b[0m\u001b[1;33m)\u001b[0m\u001b[1;33m)\u001b[0m\u001b[1;33m\u001b[0m\u001b[1;33m\u001b[0m\u001b[0m\n\u001b[1;32m---> 45\u001b[1;33m \u001b[0mv\u001b[0m\u001b[1;33m.\u001b[0m\u001b[0mattributes\u001b[0m\u001b[1;33m(\u001b[0m\u001b[0mcs\u001b[0m\u001b[1;33m)\u001b[0m\u001b[1;33m\u001b[0m\u001b[1;33m\u001b[0m\u001b[0m\n\u001b[0m\u001b[0;32m     46\u001b[0m \u001b[1;33m\u001b[0m\u001b[0m\n\u001b[0;32m     47\u001b[0m \u001b[1;33m\u001b[0m\u001b[0m\n",
      "\u001b[1;32mc:\\Users\\rikli\\Desktop\\TDA\\code\\topological-da-geolife\\.venv\\lib\\site-packages\\pptk\\viewer\\viewer.py\u001b[0m in \u001b[0;36mattributes\u001b[1;34m(self, *attr)\u001b[0m\n\u001b[0;32m    214\u001b[0m             \u001b[1;31m# array of rgb or rgba\u001b[0m\u001b[1;33m\u001b[0m\u001b[1;33m\u001b[0m\u001b[1;33m\u001b[0m\u001b[0m\n\u001b[0;32m    215\u001b[0m             \u001b[1;32melif\u001b[0m \u001b[0mlen\u001b[0m\u001b[1;33m(\u001b[0m\u001b[0mx\u001b[0m\u001b[1;33m.\u001b[0m\u001b[0mshape\u001b[0m\u001b[1;33m)\u001b[0m \u001b[1;33m==\u001b[0m \u001b[1;36m2\u001b[0m \u001b[1;32mand\u001b[0m \u001b[1;33m(\u001b[0m\u001b[0mx\u001b[0m\u001b[1;33m.\u001b[0m\u001b[0mshape\u001b[0m\u001b[1;33m[\u001b[0m\u001b[1;33m-\u001b[0m\u001b[1;36m1\u001b[0m\u001b[1;33m]\u001b[0m \u001b[1;33m==\u001b[0m \u001b[1;36m4\u001b[0m \u001b[1;32mor\u001b[0m \u001b[0mx\u001b[0m\u001b[1;33m.\u001b[0m\u001b[0mshape\u001b[0m\u001b[1;33m[\u001b[0m\u001b[1;33m-\u001b[0m\u001b[1;36m1\u001b[0m\u001b[1;33m]\u001b[0m \u001b[1;33m==\u001b[0m \u001b[1;36m3\u001b[0m\u001b[1;33m)\u001b[0m\u001b[1;33m:\u001b[0m\u001b[1;33m\u001b[0m\u001b[1;33m\u001b[0m\u001b[0m\n\u001b[1;32m--> 216\u001b[1;33m                 \u001b[1;32mif\u001b[0m \u001b[0mx\u001b[0m\u001b[1;33m.\u001b[0m\u001b[0mshape\u001b[0m\u001b[1;33m[\u001b[0m\u001b[1;36m0\u001b[0m\u001b[1;33m]\u001b[0m \u001b[1;33m!=\u001b[0m \u001b[0mself\u001b[0m\u001b[1;33m.\u001b[0m\u001b[0mget\u001b[0m\u001b[1;33m(\u001b[0m\u001b[1;34m'num_points'\u001b[0m\u001b[1;33m)\u001b[0m \u001b[1;32mand\u001b[0m \u001b[0mx\u001b[0m\u001b[1;33m.\u001b[0m\u001b[0mshape\u001b[0m\u001b[1;33m[\u001b[0m\u001b[1;36m0\u001b[0m\u001b[1;33m]\u001b[0m \u001b[1;33m!=\u001b[0m \u001b[1;36m1\u001b[0m\u001b[1;33m:\u001b[0m\u001b[1;33m\u001b[0m\u001b[1;33m\u001b[0m\u001b[0m\n\u001b[0m\u001b[0;32m    217\u001b[0m                     \u001b[1;32mraise\u001b[0m \u001b[0mValueError\u001b[0m\u001b[1;33m(\u001b[0m\u001b[0merror_msg\u001b[0m \u001b[1;33m%\u001b[0m \u001b[0mi\u001b[0m\u001b[1;33m)\u001b[0m\u001b[1;33m\u001b[0m\u001b[1;33m\u001b[0m\u001b[0m\n\u001b[0;32m    218\u001b[0m                 \u001b[1;32mif\u001b[0m \u001b[0mx\u001b[0m\u001b[1;33m.\u001b[0m\u001b[0mshape\u001b[0m\u001b[1;33m[\u001b[0m\u001b[1;33m-\u001b[0m\u001b[1;36m1\u001b[0m\u001b[1;33m]\u001b[0m \u001b[1;33m==\u001b[0m \u001b[1;36m3\u001b[0m\u001b[1;33m:\u001b[0m\u001b[1;33m\u001b[0m\u001b[1;33m\u001b[0m\u001b[0m\n",
      "\u001b[1;32mc:\\Users\\rikli\\Desktop\\TDA\\code\\topological-da-geolife\\.venv\\lib\\site-packages\\pptk\\viewer\\viewer.py\u001b[0m in \u001b[0;36mget\u001b[1;34m(self, prop_name)\u001b[0m\n\u001b[0;32m    164\u001b[0m \u001b[1;33m\u001b[0m\u001b[0m\n\u001b[0;32m    165\u001b[0m         \"\"\"\n\u001b[1;32m--> 166\u001b[1;33m         \u001b[1;32mreturn\u001b[0m \u001b[0mself\u001b[0m\u001b[1;33m.\u001b[0m\u001b[0m__query\u001b[0m\u001b[1;33m(\u001b[0m\u001b[0m_construct_get_msg\u001b[0m\u001b[1;33m(\u001b[0m\u001b[0mprop_name\u001b[0m\u001b[1;33m)\u001b[0m\u001b[1;33m)\u001b[0m\u001b[1;33m\u001b[0m\u001b[1;33m\u001b[0m\u001b[0m\n\u001b[0m\u001b[0;32m    167\u001b[0m \u001b[1;33m\u001b[0m\u001b[0m\n\u001b[0;32m    168\u001b[0m     \u001b[1;32mdef\u001b[0m \u001b[0mload\u001b[0m\u001b[1;33m(\u001b[0m\u001b[0mself\u001b[0m\u001b[1;33m,\u001b[0m \u001b[1;33m*\u001b[0m\u001b[0margs\u001b[0m\u001b[1;33m,\u001b[0m \u001b[1;33m**\u001b[0m\u001b[0mkwargs\u001b[0m\u001b[1;33m)\u001b[0m\u001b[1;33m:\u001b[0m\u001b[1;33m\u001b[0m\u001b[1;33m\u001b[0m\u001b[0m\n",
      "\u001b[1;32mc:\\Users\\rikli\\Desktop\\TDA\\code\\topological-da-geolife\\.venv\\lib\\site-packages\\pptk\\viewer\\viewer.py\u001b[0m in \u001b[0;36m__query\u001b[1;34m(self, msg)\u001b[0m\n\u001b[0;32m    449\u001b[0m         \u001b[0ms\u001b[0m \u001b[1;33m=\u001b[0m \u001b[0msocket\u001b[0m\u001b[1;33m.\u001b[0m\u001b[0msocket\u001b[0m\u001b[1;33m(\u001b[0m\u001b[0msocket\u001b[0m\u001b[1;33m.\u001b[0m\u001b[0mAF_INET\u001b[0m\u001b[1;33m,\u001b[0m \u001b[0msocket\u001b[0m\u001b[1;33m.\u001b[0m\u001b[0mSOCK_STREAM\u001b[0m\u001b[1;33m)\u001b[0m\u001b[1;33m\u001b[0m\u001b[1;33m\u001b[0m\u001b[0m\n\u001b[0;32m    450\u001b[0m         \u001b[1;31m# s.setsockopt(socket.SOL_SOCKET,socket.TCP_NODELAY,1)\u001b[0m\u001b[1;33m\u001b[0m\u001b[1;33m\u001b[0m\u001b[1;33m\u001b[0m\u001b[0m\n\u001b[1;32m--> 451\u001b[1;33m         \u001b[0ms\u001b[0m\u001b[1;33m.\u001b[0m\u001b[0mconnect\u001b[0m\u001b[1;33m(\u001b[0m\u001b[1;33m(\u001b[0m\u001b[1;34m'localhost'\u001b[0m\u001b[1;33m,\u001b[0m \u001b[0mself\u001b[0m\u001b[1;33m.\u001b[0m\u001b[0m_portNumber\u001b[0m\u001b[1;33m)\u001b[0m\u001b[1;33m)\u001b[0m\u001b[1;33m\u001b[0m\u001b[1;33m\u001b[0m\u001b[0m\n\u001b[0m\u001b[0;32m    452\u001b[0m         \u001b[0mtotalSent\u001b[0m \u001b[1;33m=\u001b[0m \u001b[1;36m0\u001b[0m\u001b[1;33m\u001b[0m\u001b[1;33m\u001b[0m\u001b[0m\n\u001b[0;32m    453\u001b[0m         \u001b[1;32mwhile\u001b[0m \u001b[0mtotalSent\u001b[0m \u001b[1;33m<\u001b[0m \u001b[0mlen\u001b[0m\u001b[1;33m(\u001b[0m\u001b[0mmsg\u001b[0m\u001b[1;33m)\u001b[0m\u001b[1;33m:\u001b[0m\u001b[1;33m\u001b[0m\u001b[1;33m\u001b[0m\u001b[0m\n",
      "\u001b[1;31mConnectionRefusedError\u001b[0m: [WinError 10061] No connection could be made because the target machine actively refused it"
     ]
    }
   ],
   "source": [
    "colors = [\n",
    "    \"blue\",\n",
    "    \"green\",\n",
    "    \"red\",\n",
    "    \"cyan\",\n",
    "    \"magenta\",\n",
    "    \"yellow\",\n",
    "    \"black\",\n",
    "    \"white\",\n",
    "    \"tab:brown\",\n",
    "    \"tab:orange\",\n",
    "    \"tab:purple\",\n",
    "    \"tab:blue\",\n",
    "    \"tab:green\",\n",
    "    \"tab:pink\",\n",
    "    \"tab:red\"\n",
    "    \n",
    "]\n",
    "\n",
    "rgb_values = [\n",
    "    [0, 0, 1],    # blue\n",
    "    [0, 0.5, 0],  # green\n",
    "    [1, 0, 0],    # red\n",
    "    [0, 0.75, 0.75],  # cyan\n",
    "    [1, 0, 1],    # magenta\n",
    "    [0.75, 0.75, 0],  # yellow\n",
    "    [0, 0, 0],    # black\n",
    "    [1, 1, 1],    # white\n",
    "    [0.5490196078431373, 0.33725490196078434, 0.29411764705882354], # tab:brown\n",
    "    [1.0, 0.4980392156862745, 0.054901960784313725],  # tab:orange\n",
    "    [0.5803921568627451, 0.403921568627451, 0.7411764705882353],    # tab:purple\n",
    "    [0.12156862745098039, 0.4666666666666667, 0.7058823529411765],   # tab:blue\n",
    "    [0.17254901960784313, 0.6274509803921569, 0.17254901960784313], # tab:green\n",
    "    [0.8901960784313725, 0.4666666666666667, 0.7607843137254902],    # tab:pink\n",
    "    [0.8392156862745098, 0.15294117647058825, 0.1568627450980392]  # tab:red\n",
    "]\n",
    "def get_rgb(id):\n",
    "    return np.array(rgb_values[id])\n",
    "\n",
    "cs = np.vstack(df_50[mask_labelled]['label'].apply(lambda l: get_rgb(l-1)))\n",
    "v.attributes(cs)\n",
    "\n",
    "\n"
   ]
  },
  {
   "cell_type": "code",
   "execution_count": 65,
   "metadata": {},
   "outputs": [
    {
     "name": "stdout",
     "output_type": "stream",
     "text": [
      "#0000ff\n",
      "#0000ff\n",
      "#0000ff\n",
      "#0000ff\n"
     ]
    },
    {
     "data": {
      "text/markdown": [
       "<span style=\"color: #0000ff\">blue</span> \n",
       "                                            represents \n",
       "                          <span style=\"color: #0000ff\">walk</span>\n",
       "                        "
      ],
      "text/plain": [
       "<IPython.core.display.Markdown object>"
      ]
     },
     "metadata": {},
     "output_type": "display_data"
    },
    {
     "name": "stdout",
     "output_type": "stream",
     "text": [
      "#008000\n",
      "#008000\n",
      "#008000\n",
      "#008000\n"
     ]
    },
    {
     "data": {
      "text/markdown": [
       "<span style=\"color: #008000\">green</span> \n",
       "                                            represents \n",
       "                          <span style=\"color: #008000\">bike</span>\n",
       "                        "
      ],
      "text/plain": [
       "<IPython.core.display.Markdown object>"
      ]
     },
     "metadata": {},
     "output_type": "display_data"
    },
    {
     "name": "stdout",
     "output_type": "stream",
     "text": [
      "#ff0000\n",
      "#ff0000\n",
      "#ff0000\n",
      "#ff0000\n"
     ]
    },
    {
     "data": {
      "text/markdown": [
       "<span style=\"color: #ff0000\">red</span> \n",
       "                                            represents \n",
       "                          <span style=\"color: #ff0000\">bus</span>\n",
       "                        "
      ],
      "text/plain": [
       "<IPython.core.display.Markdown object>"
      ]
     },
     "metadata": {},
     "output_type": "display_data"
    },
    {
     "name": "stdout",
     "output_type": "stream",
     "text": [
      "#00bfbf\n",
      "#00bfbf\n",
      "#00bfbf\n",
      "#00bfbf\n"
     ]
    },
    {
     "data": {
      "text/markdown": [
       "<span style=\"color: #00bfbf\">cyan</span> \n",
       "                                            represents \n",
       "                          <span style=\"color: #00bfbf\">car</span>\n",
       "                        "
      ],
      "text/plain": [
       "<IPython.core.display.Markdown object>"
      ]
     },
     "metadata": {},
     "output_type": "display_data"
    },
    {
     "name": "stdout",
     "output_type": "stream",
     "text": [
      "#ff00ff\n",
      "#ff00ff\n",
      "#ff00ff\n",
      "#ff00ff\n"
     ]
    },
    {
     "data": {
      "text/markdown": [
       "<span style=\"color: #ff00ff\">magenta</span> \n",
       "                                            represents \n",
       "                          <span style=\"color: #ff00ff\">subway</span>\n",
       "                        "
      ],
      "text/plain": [
       "<IPython.core.display.Markdown object>"
      ]
     },
     "metadata": {},
     "output_type": "display_data"
    },
    {
     "name": "stdout",
     "output_type": "stream",
     "text": [
      "#bfbf00\n",
      "#bfbf00\n",
      "#bfbf00\n",
      "#bfbf00\n"
     ]
    },
    {
     "data": {
      "text/markdown": [
       "<span style=\"color: #bfbf00\">yellow</span> \n",
       "                                            represents \n",
       "                          <span style=\"color: #bfbf00\">train</span>\n",
       "                        "
      ],
      "text/plain": [
       "<IPython.core.display.Markdown object>"
      ]
     },
     "metadata": {},
     "output_type": "display_data"
    },
    {
     "name": "stdout",
     "output_type": "stream",
     "text": [
      "#000000\n",
      "#000000\n",
      "#000000\n",
      "#000000\n"
     ]
    },
    {
     "data": {
      "text/markdown": [
       "<span style=\"color: #000000\">black</span> \n",
       "                                            represents \n",
       "                          <span style=\"color: #000000\">airplane</span>\n",
       "                        "
      ],
      "text/plain": [
       "<IPython.core.display.Markdown object>"
      ]
     },
     "metadata": {},
     "output_type": "display_data"
    },
    {
     "name": "stdout",
     "output_type": "stream",
     "text": [
      "#ffffff\n",
      "#ffffff\n",
      "#ffffff\n",
      "#ffffff\n"
     ]
    },
    {
     "data": {
      "text/markdown": [
       "<span style=\"color: #ffffff\">white</span> \n",
       "                                            represents \n",
       "                          <span style=\"color: #ffffff\">boat</span>\n",
       "                        "
      ],
      "text/plain": [
       "<IPython.core.display.Markdown object>"
      ]
     },
     "metadata": {},
     "output_type": "display_data"
    },
    {
     "name": "stdout",
     "output_type": "stream",
     "text": [
      "#8c564b\n",
      "#8c564b\n",
      "#8c564b\n",
      "#8c564b\n"
     ]
    },
    {
     "data": {
      "text/markdown": [
       "<span style=\"color: #8c564b\">tab:brown</span> \n",
       "                                            represents \n",
       "                          <span style=\"color: #8c564b\">run</span>\n",
       "                        "
      ],
      "text/plain": [
       "<IPython.core.display.Markdown object>"
      ]
     },
     "metadata": {},
     "output_type": "display_data"
    },
    {
     "name": "stdout",
     "output_type": "stream",
     "text": [
      "#ff7f0e\n",
      "#ff7f0e\n",
      "#ff7f0e\n",
      "#ff7f0e\n"
     ]
    },
    {
     "data": {
      "text/markdown": [
       "<span style=\"color: #ff7f0e\">tab:orange</span> \n",
       "                                            represents \n",
       "                          <span style=\"color: #ff7f0e\">motorcycle</span>\n",
       "                        "
      ],
      "text/plain": [
       "<IPython.core.display.Markdown object>"
      ]
     },
     "metadata": {},
     "output_type": "display_data"
    },
    {
     "name": "stdout",
     "output_type": "stream",
     "text": [
      "#9467bd\n",
      "#9467bd\n",
      "#9467bd\n",
      "#9467bd\n"
     ]
    },
    {
     "data": {
      "text/markdown": [
       "<span style=\"color: #9467bd\">tab:purple</span> \n",
       "                                            represents \n",
       "                          <span style=\"color: #9467bd\">taxi</span>\n",
       "                        "
      ],
      "text/plain": [
       "<IPython.core.display.Markdown object>"
      ]
     },
     "metadata": {},
     "output_type": "display_data"
    }
   ],
   "source": [
    "def get_rgb_string(rgb_value):\n",
    "    rgb_value = np.rint(np.array(rgb_value)*255).astype(int)\n",
    "    return f'#{rgb_value[0]:02x}{rgb_value[1]:02x}{rgb_value[2]:02x}'\n",
    "\n",
    "# todo make less ugly\n",
    "for i, item in enumerate(zip(colors, rgb_values)):\n",
    "    if i >= df_50[mask_labelled]['label'].max():\n",
    "        break\n",
    "    display (Markdown(f'''<span style=\"color: {get_rgb_string(item[1])}\">{item[0]}</span> \n",
    "                                            represents \n",
    "                          <span style=\"color: {get_rgb_string(item[1])}\">{read_geolife.get_mode(i+1)}</span>\n",
    "                        ''')) "
   ]
  }
 ],
 "metadata": {
  "kernelspec": {
   "display_name": "Python 3",
   "language": "python",
   "name": "python3"
  },
  "language_info": {
   "codemirror_mode": {
    "name": "ipython",
    "version": 3
   },
   "file_extension": ".py",
   "mimetype": "text/x-python",
   "name": "python",
   "nbconvert_exporter": "python",
   "pygments_lexer": "ipython3",
   "version": "3.7.8"
  },
  "orig_nbformat": 4
 },
 "nbformat": 4,
 "nbformat_minor": 2
}
