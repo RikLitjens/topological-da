{
 "cells": [
  {
   "cell_type": "code",
   "execution_count": 19,
   "metadata": {
    "tags": []
   },
   "outputs": [],
   "source": [
    "import kmapper as km\n",
    "from kmapper import jupyter\n",
    "import pandas as pd\n",
    "import numpy as np"
   ]
  },
  {
   "cell_type": "code",
   "execution_count": 20,
   "metadata": {
    "tags": []
   },
   "outputs": [],
   "source": [
    "# Define your filter function\n",
    "def eccentricity_filter(data):\n",
    "    # Calculate the centroid of the dataset\n",
    "    centroid = np.mean(data, axis=0)\n",
    "\n",
    "    # Calculate the Euclidean distance between each data point and the centroid\n",
    "    distances = np.linalg.norm(data - centroid, axis=1)\n",
    "\n",
    "    # The eccentricity is the maximum distance from the centroid\n",
    "    eccentricity = np.max(distances)\n",
    "\n",
    "    return eccentricity"
   ]
  },
  {
   "cell_type": "code",
   "execution_count": null,
   "metadata": {},
   "outputs": [],
   "source": []
  },
  {
   "cell_type": "code",
   "execution_count": 29,
   "metadata": {
    "tags": []
   },
   "outputs": [
    {
     "name": "stdout",
     "output_type": "stream",
     "text": [
      "Index(['time', 'lat', 'lon', 'alt', 'point_id', 'label', 'user'], dtype='object')\n",
      "Index(['lat', 'lon'], dtype='object')\n",
      "KeplerMapper(verbose=1)\n",
      "..Composing projection pipeline of length 1:\n",
      "\tProjections: <function eccentricity_filter at 0x000001D79F1EF9A0>\n",
      "\tDistance matrices: False\n",
      "\tScalers: MinMaxScaler()\n",
      "..Projecting on data shaped (26272, 2)\n",
      "\n",
      "..Scaling with: MinMaxScaler()\n",
      "\n",
      "Mapping on data shaped (26272, 2) using lens shaped (26272, 2)\n",
      "\n",
      "Creating 625 hypercubes.\n",
      "\n",
      "Created 35 edges and 19 nodes in 0:00:09.835416.\n",
      "Wrote visualization to: output/make_circles_keplermapper_output.html\n"
     ]
    },
    {
     "data": {
      "text/html": [
       "<style>\n",
       "        .container { width:100% !important; }\n",
       "        .output_scroll {height: 800px !important;}\n",
       "        </style>"
      ],
      "text/plain": [
       "<IPython.core.display.HTML object>"
      ]
     },
     "metadata": {},
     "output_type": "display_data"
    },
    {
     "name": "stderr",
     "output_type": "stream",
     "text": [
      "C:\\Users\\alec\\AppData\\Roaming\\Python\\Python310\\site-packages\\IPython\\core\\display.py:431: UserWarning: Consider using IPython.display.IFrame instead\n",
      "  warnings.warn(\"Consider using IPython.display.IFrame instead\")\n"
     ]
    },
    {
     "data": {
      "text/html": [
       "<iframe src=output/make_circles_keplermapper_output.html width=100%% height=800 frameBorder=\"0\"></iframe>"
      ],
      "text/plain": [
       "<IPython.core.display.HTML object>"
      ]
     },
     "metadata": {},
     "output_type": "display_data"
    }
   ],
   "source": [
    "df = pd.read_pickle('geolifePython7.pkl')\n",
    "print(df.columns)\n",
    "df = df.loc[df['user'].isin([1,2,4])]\n",
    "max_id = len(df)\n",
    "df = df.loc[df['point_id'].isin(np.arange(0,max_id,40))]\n",
    "\n",
    "\n",
    "labels = df['label']\n",
    "users = df['user']\n",
    "\n",
    "df.drop(['time', 'label', 'user', 'alt', 'point_id'], axis=1, inplace=True)\n",
    "\n",
    "print(df.columns)\n",
    "\n",
    "np_df = df.to_numpy()\n",
    "\n",
    "\n",
    "mapper = km.KeplerMapper(verbose=1)\n",
    "\n",
    "projected_data = mapper.fit_transform(np_df, projection=eccentricity_filter)\n",
    "\n",
    "cover = km.Cover(n_cubes=25)\n",
    "\n",
    "# Create dictionary called 'graph' with nodes, edges and meta-information\n",
    "graph = mapper.map(projected_data, np_df, cover=cover)\n",
    "\n",
    "# Visualize it\n",
    "_ = mapper.visualize(graph, path_html=\"output/make_circles_keplermapper_output.html\",\n",
    "                 title=\"make_circles(n_samples=5000, noise=0.03, factor=0.3)\")\n",
    "\n",
    "jupyter.display(path_html=\"output/make_circles_keplermapper_output.html\")"
   ]
  },
  {
   "cell_type": "code",
   "execution_count": null,
   "metadata": {},
   "outputs": [],
   "source": [
    "from IPython.display import IFrame\n",
    "IFrame(src=\"output/make_circles_keplermapper_output.html\", width=800, height=600)"
   ]
  }
 ],
 "metadata": {
  "kernelspec": {
   "display_name": "Python 3 (ipykernel)",
   "language": "python",
   "name": "python3"
  },
  "language_info": {
   "codemirror_mode": {
    "name": "ipython",
    "version": 3
   },
   "file_extension": ".py",
   "mimetype": "text/x-python",
   "name": "python",
   "nbconvert_exporter": "python",
   "pygments_lexer": "ipython3",
   "version": "3.10.10"
  }
 },
 "nbformat": 4,
 "nbformat_minor": 4
}
