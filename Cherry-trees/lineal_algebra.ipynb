{
 "cells": [
  {
   "cell_type": "code",
   "execution_count": 5,
   "metadata": {},
   "outputs": [],
   "source": [
    "import numpy as np\n",
    "import configparser\n",
    "import sys\n",
    "\n",
    "# caution: path[0] is reserved for script path (or '' in REPL)\n",
    "sys.path.insert(1, '..\\src')\n",
    "\n",
    "from src.super_points import *\n",
    "from src.helpers import *"
   ]
  },
  {
   "cell_type": "code",
   "execution_count": 6,
   "metadata": {},
   "outputs": [
    {
     "name": "stdout",
     "output_type": "stream",
     "text": [
      "[[1 0 0]\n",
      " [0 1 0]\n",
      " [0 0 1]]\n"
     ]
    }
   ],
   "source": [
    "x_axis_new = np.array([1, 0, 0])\n",
    "y_axis_new = np.array([0, 1, 0])\n",
    "z_axis_new = np.array([0, 0, 1])\n",
    "rotation_matrix = np.array([x_axis_new, y_axis_new, z_axis_new])\n",
    "print(rotation_matrix)"
   ]
  },
  {
   "cell_type": "code",
   "execution_count": 9,
   "metadata": {},
   "outputs": [
    {
     "name": "stdout",
     "output_type": "stream",
     "text": [
      "Calculating super points...\n",
      " Points left: 338591\n"
     ]
    },
    {
     "ename": "NameError",
     "evalue": "name 'dist' is not defined",
     "output_type": "error",
     "traceback": [
      "\u001b[1;31m---------------------------------------------------------------------------\u001b[0m",
      "\u001b[1;31mNameError\u001b[0m                                 Traceback (most recent call last)",
      "Cell \u001b[1;32mIn[9], line 9\u001b[0m\n\u001b[0;32m      6\u001b[0m pcd \u001b[39m=\u001b[39m load_point_cloud(local_path, \u001b[39m0\u001b[39m, \u001b[39m\"\u001b[39m\u001b[39mcloud_final\u001b[39m\u001b[39m\"\u001b[39m)\n\u001b[0;32m      8\u001b[0m \u001b[39m# Load the superpoints\u001b[39;00m\n\u001b[1;32m----> 9\u001b[0m clusters, super_points \u001b[39m=\u001b[39m get_super_points(get_data(pcd), \u001b[39m0.1\u001b[39;49m)\n\u001b[0;32m     11\u001b[0m \u001b[39m# Make point cloud out of superpoints\u001b[39;00m\n\u001b[0;32m     12\u001b[0m super_points_pcd \u001b[39m=\u001b[39m numpy_to_pcd(super_points)\n",
      "File \u001b[1;32mc:\\Users\\marco\\Documents\\GitHub\\topological-da-geolife\\Cherry-trees\\src\\super_points.py:42\u001b[0m, in \u001b[0;36mget_super_points\u001b[1;34m(data, radius)\u001b[0m\n\u001b[0;32m     40\u001b[0m \u001b[39mfor\u001b[39;00m c, candidate_point \u001b[39min\u001b[39;00m \u001b[39menumerate\u001b[39m(sorted_data[mask][sample_index[\u001b[39m0\u001b[39m]\u001b[39m+\u001b[39m\u001b[39m1\u001b[39m:]):\n\u001b[0;32m     41\u001b[0m     \u001b[39mif\u001b[39;00m c \u001b[39m!=\u001b[39m sample_index:\n\u001b[1;32m---> 42\u001b[0m         distance \u001b[39m=\u001b[39m dist(current_point, candidate_point)\n\u001b[0;32m     43\u001b[0m         \u001b[39mif\u001b[39;00m distance \u001b[39m<\u001b[39m\u001b[39m=\u001b[39m radius:\n\u001b[0;32m     44\u001b[0m             cluster\u001b[39m.\u001b[39mappend(candidate_point)\n",
      "\u001b[1;31mNameError\u001b[0m: name 'dist' is not defined"
     ]
    }
   ],
   "source": [
    "# Load the point cloud\n",
    "config = configparser.RawConfigParser()\n",
    "config.read(r\"config\\config.ini\")\n",
    "local_path = config.get('DATA', 'PATH')\n",
    "\n",
    "pcd = load_point_cloud(local_path, 0, \"cloud_final\")\n",
    "\n",
    "# Load the superpoints\n",
    "clusters, super_points = get_super_points(get_data(pcd), 0.1)\n",
    "\n",
    "# Make point cloud out of superpoints\n",
    "super_points_pcd = numpy_to_pcd(super_points)\n",
    "\n",
    "# Visualize the point cloud\n",
    "o3d.visualization.draw_geometries([super_points_pcd],\n",
    "                                    zoom=0.455,\n",
    "                                    front=[-0.4999, -0.1659, -0.8499],\n",
    "                                    lookat=[2.1813, 2.0619, 2.0999],\n",
    "                                    up=[0.1204, -0.9852, 0.1215])"
   ]
  },
  {
   "cell_type": "code",
   "execution_count": null,
   "metadata": {},
   "outputs": [],
   "source": []
  },
  {
   "cell_type": "code",
   "execution_count": null,
   "metadata": {},
   "outputs": [],
   "source": []
  }
 ],
 "metadata": {
  "kernelspec": {
   "display_name": "Python 3",
   "language": "python",
   "name": "python3"
  },
  "language_info": {
   "codemirror_mode": {
    "name": "ipython",
    "version": 3
   },
   "file_extension": ".py",
   "mimetype": "text/x-python",
   "name": "python",
   "nbconvert_exporter": "python",
   "pygments_lexer": "ipython3",
   "version": "3.10.10"
  },
  "orig_nbformat": 4
 },
 "nbformat": 4,
 "nbformat_minor": 2
}
